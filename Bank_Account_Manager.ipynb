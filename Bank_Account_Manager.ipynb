{
  "nbformat": 4,
  "nbformat_minor": 0,
  "metadata": {
    "colab": {
      "provenance": []
    },
    "kernelspec": {
      "name": "python3",
      "display_name": "Python 3"
    },
    "language_info": {
      "name": "python"
    }
  },
  "cells": [
    {
      "cell_type": "code",
      "execution_count": 10,
      "metadata": {
        "id": "-2AedqYqoCa7"
      },
      "outputs": [],
      "source": [
        "class Bank_account:\n",
        "  def __init__(self, firstname, lastname, address, number, openingdate, pin):\n",
        "    self.firstname = firstname\n",
        "    self.lastname = lastname\n",
        "    self.address = address\n",
        "    self.number = number\n",
        "    self.openingdate = openingdate\n",
        "    self.pin = pin\n",
        "    self.balance = 0\n",
        "\n",
        "  def info(self):\n",
        "    print(f'Hello {self.firstname} {self.lastname} with account number {self.number}. Your account that was opened in {self.openingdate} has been activited and your pin is {self.pin}. If you have any problem you can visit any of our office at {self.address}. ')\n",
        "    print(f\"Your current balance is {self.balance}\")\n",
        "\n",
        "\n",
        "\n",
        "  def deposit(self, amount):\n",
        "    self.balance = self.balance + amount\n",
        "    print(f\" Congrats!!! {self.firstname} {self.lastname} you have deposited {amount} naira into your account, your new balance is {self.balance} naira\")\n",
        "\n",
        "  def withdraw(self, amount):\n",
        "    pincode = input('Enter your pin: ')\n",
        "    if str(pincode) == self.pin:\n",
        "        if self.balance > amount:\n",
        "            self.balance = self.balance - amount\n",
        "            print(f'{self.firstname} {self.lastname} {amount} naira has been deducted from your account. Your new balance is {self.balance} naira')\n",
        "        else:\n",
        "            print(\"Transfer error!!!\")\n",
        "            print(f\"You do not have sufficient balance to make this transaction as your current balance is {self.balance}\")\n",
        "    else:\n",
        "        print(f\"Your entered pin code {pincode} is wrong, please try again\")\n",
        "\n",
        "\n",
        "  def transfer(self, amount, who):\n",
        "    pincode = input('Enter your pin: ')\n",
        "    if str(pincode) == self.pin:\n",
        "        if self.balance > amount:\n",
        "            who.balance = who.balance + amount\n",
        "            self.balance = self.balance - amount\n",
        "            print(f'{self.firstname} {self.lastname} {amount} naira has been deducted from your account. Your new balance is {self.balance} naira')\n",
        "        else:\n",
        "            print(\"Transfer error!!!\")\n",
        "            print(f\"You do not have sufficient balance to make this transaction as your current balance is {self.balance}\")\n",
        "    else:\n",
        "        print(f\"Your entered pin code {pincode} is wrong, please try again\")\n",
        "\n",
        "\n",
        "  def overdraft(self, amount):\n",
        "    self.balance = self.balance - amount\n",
        "    if self.balance < amount:\n",
        "      print(f'Sorry {self.firstname} {self.lastname} {amount} naira has been deducted from your account, your account is about to get bankrupt. Your new balance is {self.balance} naira ')\n",
        "    elif self.balance > amount:\n",
        "      print(f'{self.firstname} {self.lastname} {amount} naira has been deducted from your account. Your new balance is {self.balance} naira')\n",
        "\n",
        "  def log_out(self, amount):\n",
        "    if self.balance - amount == 0:\n",
        "      self.balance = self.balance - amount\n",
        "      print(f'Ooopppss!!! {self.firstname} {self.lastname} you have successfully withdrawn all your money from your account. Your new balance is {self.balance} naira. You have successfully been logged out.')\n",
        "    elif self.balance - amount > 0:\n",
        "      print(f'{self.firstname} {self.lastname} {amount} naira has been deducted from your account. Your new balance is {self.balance} naira')\n",
        "\n",
        "\n",
        "\n",
        "Account1 = Bank_account('Emmanuel', 'Kenneth', 'lagos', 123456789, '01-06-2023', '2003')\n",
        "Account2 = Bank_account('Samuel', 'Johnson', 'lagos', 210806077, '01-05-2023', '2004')"
      ]
    },
    {
      "cell_type": "code",
      "source": [
        "Account1.info()"
      ],
      "metadata": {
        "colab": {
          "base_uri": "https://localhost:8080/"
        },
        "id": "-1NJ1pmPoMBr",
        "outputId": "8d7b6f6e-d0b5-444f-81b0-b67b64dc4731"
      },
      "execution_count": 13,
      "outputs": [
        {
          "output_type": "stream",
          "name": "stdout",
          "text": [
            "Hello Emmanuel Kenneth with account number 123456789. Your account that was opened in 01-06-2023 has been activited and your pin is 2003. If you have any problem you can visit any of our office at lagos. \n",
            "Your current balance is 500\n"
          ]
        }
      ]
    },
    {
      "cell_type": "code",
      "source": [
        "Account1.deposit(500)"
      ],
      "metadata": {
        "colab": {
          "base_uri": "https://localhost:8080/"
        },
        "id": "Qg06LW0oorR-",
        "outputId": "6e94cfe3-1ddf-4676-a7ae-0f0d2f021e21"
      },
      "execution_count": 12,
      "outputs": [
        {
          "output_type": "stream",
          "name": "stdout",
          "text": [
            " Congrats!!! Emmanuel Kenneth you have deposited 500 naira into your account, your new balance is 500 naira\n"
          ]
        }
      ]
    },
    {
      "cell_type": "code",
      "source": [
        "Account1.withdraw(50)"
      ],
      "metadata": {
        "colab": {
          "base_uri": "https://localhost:8080/"
        },
        "id": "XqsE6GAOpN2q",
        "outputId": "3bdeab6f-5604-4f68-8777-f2e866e8694e"
      },
      "execution_count": 15,
      "outputs": [
        {
          "output_type": "stream",
          "name": "stdout",
          "text": [
            "Enter your pin: 2004\n",
            "Your entered pin code 2004 is wrong, please try again\n"
          ]
        }
      ]
    },
    {
      "cell_type": "code",
      "source": [
        "Account1.transfer(90, Account2)"
      ],
      "metadata": {
        "colab": {
          "base_uri": "https://localhost:8080/"
        },
        "id": "xsyTKjbvosod",
        "outputId": "5243ad85-efc1-4b42-daa9-f19c71e70abe"
      },
      "execution_count": 16,
      "outputs": [
        {
          "output_type": "stream",
          "name": "stdout",
          "text": [
            "Enter your pin: 2003\n",
            "Emmanuel Kenneth 90 naira has been deducted from your account. Your new balance is 360 naira\n"
          ]
        }
      ]
    },
    {
      "cell_type": "code",
      "source": [
        "Account2.info()"
      ],
      "metadata": {
        "colab": {
          "base_uri": "https://localhost:8080/"
        },
        "id": "UXlmzdrOoh20",
        "outputId": "c4e39f22-2fc5-47d8-cc93-05565ee44f95"
      },
      "execution_count": 17,
      "outputs": [
        {
          "output_type": "stream",
          "name": "stdout",
          "text": [
            "Hello Samuel Johnson with account number 210806077. Your account that was opened in 01-05-2023 has been activited and your pin is 2004. If you have any problem you can visit any of our office at lagos. \n",
            "Your current balance is 90\n"
          ]
        }
      ]
    }
  ]
}